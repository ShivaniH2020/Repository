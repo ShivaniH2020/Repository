{
  "nbformat": 4,
  "nbformat_minor": 0,
  "metadata": {
    "colab": {
      "name": "Assignment1Part2.ipynb",
      "provenance": [],
      "collapsed_sections": [],
      "authorship_tag": "ABX9TyOqcafv1xVgqeYp0KVCte9l",
      "include_colab_link": true
    },
    "kernelspec": {
      "display_name": "Python 3",
      "name": "python3"
    }
  },
  "cells": [
    {
      "cell_type": "markdown",
      "metadata": {
        "id": "view-in-github",
        "colab_type": "text"
      },
      "source": [
        "<a href=\"https://colab.research.google.com/github/ShivaniH2020/Repository/blob/main/Assignment1Part2.ipynb\" target=\"_parent\"><img src=\"https://colab.research.google.com/assets/colab-badge.svg\" alt=\"Open In Colab\"/></a>"
      ]
    },
    {
      "cell_type": "code",
      "metadata": {
        "colab": {
          "base_uri": "https://localhost:8080/"
        },
        "id": "D04Yn6unX_Ja",
        "outputId": "6439719e-c9b6-4e14-efe6-e8e26d7bd0e2"
      },
      "source": [
        "from google.colab import drive\n",
        "drive.mount('/content/drive')"
      ],
      "execution_count": 1,
      "outputs": [
        {
          "output_type": "stream",
          "text": [
            "Mounted at /content/drive\n"
          ],
          "name": "stdout"
        }
      ]
    },
    {
      "cell_type": "code",
      "metadata": {
        "colab": {
          "base_uri": "https://localhost:8080/"
        },
        "id": "go8ZFMHaYMEY",
        "outputId": "0164d46f-e5f7-4d8c-cf0c-10c380f923b2"
      },
      "source": [
        "import pandas as pd\n",
        "import numpy as np\n",
        "import sklearn\n",
        "import matplotlib\n",
        "import keras\n",
        "\n",
        "print('Pandas: {}'.format(pd.__version__))\n",
        "print('Numpy: {}'.format(np.__version__))\n",
        "print('Sklearn: {}'.format(sklearn.__version__))\n",
        "print('Matplotlib: {}'.format(matplotlib.__version__))\n",
        "print('Keras: {}'.format(keras.__version__))"
      ],
      "execution_count": 2,
      "outputs": [
        {
          "output_type": "stream",
          "text": [
            "Pandas: 1.1.5\n",
            "Numpy: 1.19.5\n",
            "Sklearn: 0.22.2.post1\n",
            "Matplotlib: 3.2.2\n",
            "Keras: 2.4.3\n"
          ],
          "name": "stdout"
        }
      ]
    },
    {
      "cell_type": "code",
      "metadata": {
        "id": "tf7v_UyUYaEc",
        "colab": {
          "base_uri": "https://localhost:8080/",
          "height": 204
        },
        "outputId": "a9167699-eab4-4ee6-c7b7-b75a2a86de42"
      },
      "source": [
        "dataset = pd.read_excel('/content/drive/My Drive/heart.xls')\n",
        "dataset.head()"
      ],
      "execution_count": 3,
      "outputs": [
        {
          "output_type": "execute_result",
          "data": {
            "text/html": [
              "<div>\n",
              "<style scoped>\n",
              "    .dataframe tbody tr th:only-of-type {\n",
              "        vertical-align: middle;\n",
              "    }\n",
              "\n",
              "    .dataframe tbody tr th {\n",
              "        vertical-align: top;\n",
              "    }\n",
              "\n",
              "    .dataframe thead th {\n",
              "        text-align: right;\n",
              "    }\n",
              "</style>\n",
              "<table border=\"1\" class=\"dataframe\">\n",
              "  <thead>\n",
              "    <tr style=\"text-align: right;\">\n",
              "      <th></th>\n",
              "      <th>age</th>\n",
              "      <th>sex</th>\n",
              "      <th>cp</th>\n",
              "      <th>trestbps</th>\n",
              "      <th>chol</th>\n",
              "      <th>fbs</th>\n",
              "      <th>restecg</th>\n",
              "      <th>thalach</th>\n",
              "      <th>exang</th>\n",
              "      <th>oldpeak</th>\n",
              "      <th>slope</th>\n",
              "      <th>ca</th>\n",
              "      <th>thal</th>\n",
              "      <th>target</th>\n",
              "    </tr>\n",
              "  </thead>\n",
              "  <tbody>\n",
              "    <tr>\n",
              "      <th>0</th>\n",
              "      <td>63</td>\n",
              "      <td>1</td>\n",
              "      <td>3</td>\n",
              "      <td>145</td>\n",
              "      <td>233.0</td>\n",
              "      <td>1</td>\n",
              "      <td>0.0</td>\n",
              "      <td>150.0</td>\n",
              "      <td>0.0</td>\n",
              "      <td>2.3</td>\n",
              "      <td>0</td>\n",
              "      <td>0</td>\n",
              "      <td>1</td>\n",
              "      <td>1</td>\n",
              "    </tr>\n",
              "    <tr>\n",
              "      <th>1</th>\n",
              "      <td>37</td>\n",
              "      <td>1</td>\n",
              "      <td>2</td>\n",
              "      <td>130</td>\n",
              "      <td>250.0</td>\n",
              "      <td>0</td>\n",
              "      <td>1.0</td>\n",
              "      <td>187.0</td>\n",
              "      <td>0.0</td>\n",
              "      <td>3.5</td>\n",
              "      <td>0</td>\n",
              "      <td>0</td>\n",
              "      <td>2</td>\n",
              "      <td>1</td>\n",
              "    </tr>\n",
              "    <tr>\n",
              "      <th>2</th>\n",
              "      <td>41</td>\n",
              "      <td>0</td>\n",
              "      <td>1</td>\n",
              "      <td>130</td>\n",
              "      <td>204.0</td>\n",
              "      <td>0</td>\n",
              "      <td>0.0</td>\n",
              "      <td>172.0</td>\n",
              "      <td>0.0</td>\n",
              "      <td>1.4</td>\n",
              "      <td>2</td>\n",
              "      <td>0</td>\n",
              "      <td>2</td>\n",
              "      <td>1</td>\n",
              "    </tr>\n",
              "    <tr>\n",
              "      <th>3</th>\n",
              "      <td>56</td>\n",
              "      <td>1</td>\n",
              "      <td>1</td>\n",
              "      <td>120</td>\n",
              "      <td>236.0</td>\n",
              "      <td>0</td>\n",
              "      <td>1.0</td>\n",
              "      <td>178.0</td>\n",
              "      <td>0.0</td>\n",
              "      <td>0.8</td>\n",
              "      <td>2</td>\n",
              "      <td>0</td>\n",
              "      <td>2</td>\n",
              "      <td>1</td>\n",
              "    </tr>\n",
              "    <tr>\n",
              "      <th>4</th>\n",
              "      <td>57</td>\n",
              "      <td>0</td>\n",
              "      <td>0</td>\n",
              "      <td>120</td>\n",
              "      <td>354.0</td>\n",
              "      <td>0</td>\n",
              "      <td>1.0</td>\n",
              "      <td>163.0</td>\n",
              "      <td>1.0</td>\n",
              "      <td>0.6</td>\n",
              "      <td>2</td>\n",
              "      <td>0</td>\n",
              "      <td>2</td>\n",
              "      <td>1</td>\n",
              "    </tr>\n",
              "  </tbody>\n",
              "</table>\n",
              "</div>"
            ],
            "text/plain": [
              "   age  sex  cp  trestbps   chol  fbs  ...  exang  oldpeak  slope  ca  thal  target\n",
              "0   63    1   3       145  233.0    1  ...    0.0      2.3      0   0     1       1\n",
              "1   37    1   2       130  250.0    0  ...    0.0      3.5      0   0     2       1\n",
              "2   41    0   1       130  204.0    0  ...    0.0      1.4      2   0     2       1\n",
              "3   56    1   1       120  236.0    0  ...    0.0      0.8      2   0     2       1\n",
              "4   57    0   0       120  354.0    0  ...    1.0      0.6      2   0     2       1\n",
              "\n",
              "[5 rows x 14 columns]"
            ]
          },
          "metadata": {
            "tags": []
          },
          "execution_count": 3
        }
      ]
    },
    {
      "cell_type": "code",
      "metadata": {
        "colab": {
          "base_uri": "https://localhost:8080/",
          "height": 638
        },
        "id": "AZgjCeOWYUwZ",
        "outputId": "e11c3382-8e28-4269-fca3-5a419b4dc49f"
      },
      "source": [
        "data_with_NaN = dataset[~dataset.isin(['?'])]\n",
        "preprocessed_data = data_with_NaN.dropna(axis=0)\n",
        "preprocessed_data.loc[280:]"
      ],
      "execution_count": 4,
      "outputs": [
        {
          "output_type": "execute_result",
          "data": {
            "text/html": [
              "<div>\n",
              "<style scoped>\n",
              "    .dataframe tbody tr th:only-of-type {\n",
              "        vertical-align: middle;\n",
              "    }\n",
              "\n",
              "    .dataframe tbody tr th {\n",
              "        vertical-align: top;\n",
              "    }\n",
              "\n",
              "    .dataframe thead th {\n",
              "        text-align: right;\n",
              "    }\n",
              "</style>\n",
              "<table border=\"1\" class=\"dataframe\">\n",
              "  <thead>\n",
              "    <tr style=\"text-align: right;\">\n",
              "      <th></th>\n",
              "      <th>age</th>\n",
              "      <th>sex</th>\n",
              "      <th>cp</th>\n",
              "      <th>trestbps</th>\n",
              "      <th>chol</th>\n",
              "      <th>fbs</th>\n",
              "      <th>restecg</th>\n",
              "      <th>thalach</th>\n",
              "      <th>exang</th>\n",
              "      <th>oldpeak</th>\n",
              "      <th>slope</th>\n",
              "      <th>ca</th>\n",
              "      <th>thal</th>\n",
              "      <th>target</th>\n",
              "    </tr>\n",
              "  </thead>\n",
              "  <tbody>\n",
              "    <tr>\n",
              "      <th>280</th>\n",
              "      <td>42</td>\n",
              "      <td>1</td>\n",
              "      <td>0</td>\n",
              "      <td>136</td>\n",
              "      <td>315.0</td>\n",
              "      <td>0</td>\n",
              "      <td>1.0</td>\n",
              "      <td>125.0</td>\n",
              "      <td>1.0</td>\n",
              "      <td>1.8</td>\n",
              "      <td>1</td>\n",
              "      <td>0</td>\n",
              "      <td>1</td>\n",
              "      <td>0</td>\n",
              "    </tr>\n",
              "    <tr>\n",
              "      <th>281</th>\n",
              "      <td>52</td>\n",
              "      <td>1</td>\n",
              "      <td>0</td>\n",
              "      <td>128</td>\n",
              "      <td>204.0</td>\n",
              "      <td>1</td>\n",
              "      <td>1.0</td>\n",
              "      <td>156.0</td>\n",
              "      <td>1.0</td>\n",
              "      <td>1.0</td>\n",
              "      <td>1</td>\n",
              "      <td>0</td>\n",
              "      <td>0</td>\n",
              "      <td>0</td>\n",
              "    </tr>\n",
              "    <tr>\n",
              "      <th>283</th>\n",
              "      <td>40</td>\n",
              "      <td>1</td>\n",
              "      <td>0</td>\n",
              "      <td>152</td>\n",
              "      <td>223.0</td>\n",
              "      <td>0</td>\n",
              "      <td>1.0</td>\n",
              "      <td>181.0</td>\n",
              "      <td>0.0</td>\n",
              "      <td>0.0</td>\n",
              "      <td>2</td>\n",
              "      <td>0</td>\n",
              "      <td>3</td>\n",
              "      <td>0</td>\n",
              "    </tr>\n",
              "    <tr>\n",
              "      <th>284</th>\n",
              "      <td>61</td>\n",
              "      <td>1</td>\n",
              "      <td>0</td>\n",
              "      <td>140</td>\n",
              "      <td>207.0</td>\n",
              "      <td>0</td>\n",
              "      <td>0.0</td>\n",
              "      <td>138.0</td>\n",
              "      <td>1.0</td>\n",
              "      <td>1.9</td>\n",
              "      <td>2</td>\n",
              "      <td>1</td>\n",
              "      <td>3</td>\n",
              "      <td>0</td>\n",
              "    </tr>\n",
              "    <tr>\n",
              "      <th>286</th>\n",
              "      <td>59</td>\n",
              "      <td>1</td>\n",
              "      <td>3</td>\n",
              "      <td>134</td>\n",
              "      <td>204.0</td>\n",
              "      <td>0</td>\n",
              "      <td>1.0</td>\n",
              "      <td>162.0</td>\n",
              "      <td>0.0</td>\n",
              "      <td>0.8</td>\n",
              "      <td>2</td>\n",
              "      <td>2</td>\n",
              "      <td>2</td>\n",
              "      <td>0</td>\n",
              "    </tr>\n",
              "    <tr>\n",
              "      <th>287</th>\n",
              "      <td>57</td>\n",
              "      <td>1</td>\n",
              "      <td>1</td>\n",
              "      <td>154</td>\n",
              "      <td>232.0</td>\n",
              "      <td>0</td>\n",
              "      <td>0.0</td>\n",
              "      <td>164.0</td>\n",
              "      <td>0.0</td>\n",
              "      <td>0.0</td>\n",
              "      <td>2</td>\n",
              "      <td>1</td>\n",
              "      <td>2</td>\n",
              "      <td>0</td>\n",
              "    </tr>\n",
              "    <tr>\n",
              "      <th>288</th>\n",
              "      <td>57</td>\n",
              "      <td>1</td>\n",
              "      <td>0</td>\n",
              "      <td>110</td>\n",
              "      <td>335.0</td>\n",
              "      <td>0</td>\n",
              "      <td>1.0</td>\n",
              "      <td>143.0</td>\n",
              "      <td>1.0</td>\n",
              "      <td>3.0</td>\n",
              "      <td>1</td>\n",
              "      <td>1</td>\n",
              "      <td>3</td>\n",
              "      <td>0</td>\n",
              "    </tr>\n",
              "    <tr>\n",
              "      <th>289</th>\n",
              "      <td>55</td>\n",
              "      <td>0</td>\n",
              "      <td>0</td>\n",
              "      <td>128</td>\n",
              "      <td>205.0</td>\n",
              "      <td>0</td>\n",
              "      <td>2.0</td>\n",
              "      <td>130.0</td>\n",
              "      <td>1.0</td>\n",
              "      <td>2.0</td>\n",
              "      <td>1</td>\n",
              "      <td>1</td>\n",
              "      <td>3</td>\n",
              "      <td>0</td>\n",
              "    </tr>\n",
              "    <tr>\n",
              "      <th>290</th>\n",
              "      <td>61</td>\n",
              "      <td>1</td>\n",
              "      <td>0</td>\n",
              "      <td>148</td>\n",
              "      <td>203.0</td>\n",
              "      <td>0</td>\n",
              "      <td>1.0</td>\n",
              "      <td>161.0</td>\n",
              "      <td>0.0</td>\n",
              "      <td>0.0</td>\n",
              "      <td>2</td>\n",
              "      <td>1</td>\n",
              "      <td>3</td>\n",
              "      <td>0</td>\n",
              "    </tr>\n",
              "    <tr>\n",
              "      <th>291</th>\n",
              "      <td>58</td>\n",
              "      <td>1</td>\n",
              "      <td>0</td>\n",
              "      <td>114</td>\n",
              "      <td>318.0</td>\n",
              "      <td>0</td>\n",
              "      <td>2.0</td>\n",
              "      <td>140.0</td>\n",
              "      <td>0.0</td>\n",
              "      <td>4.4</td>\n",
              "      <td>0</td>\n",
              "      <td>3</td>\n",
              "      <td>1</td>\n",
              "      <td>0</td>\n",
              "    </tr>\n",
              "    <tr>\n",
              "      <th>292</th>\n",
              "      <td>58</td>\n",
              "      <td>0</td>\n",
              "      <td>0</td>\n",
              "      <td>170</td>\n",
              "      <td>225.0</td>\n",
              "      <td>1</td>\n",
              "      <td>0.0</td>\n",
              "      <td>146.0</td>\n",
              "      <td>1.0</td>\n",
              "      <td>2.8</td>\n",
              "      <td>1</td>\n",
              "      <td>2</td>\n",
              "      <td>1</td>\n",
              "      <td>0</td>\n",
              "    </tr>\n",
              "    <tr>\n",
              "      <th>293</th>\n",
              "      <td>67</td>\n",
              "      <td>1</td>\n",
              "      <td>2</td>\n",
              "      <td>152</td>\n",
              "      <td>212.0</td>\n",
              "      <td>0</td>\n",
              "      <td>0.0</td>\n",
              "      <td>150.0</td>\n",
              "      <td>0.0</td>\n",
              "      <td>0.8</td>\n",
              "      <td>1</td>\n",
              "      <td>0</td>\n",
              "      <td>3</td>\n",
              "      <td>0</td>\n",
              "    </tr>\n",
              "    <tr>\n",
              "      <th>294</th>\n",
              "      <td>44</td>\n",
              "      <td>1</td>\n",
              "      <td>0</td>\n",
              "      <td>120</td>\n",
              "      <td>169.0</td>\n",
              "      <td>0</td>\n",
              "      <td>1.0</td>\n",
              "      <td>144.0</td>\n",
              "      <td>1.0</td>\n",
              "      <td>2.8</td>\n",
              "      <td>0</td>\n",
              "      <td>0</td>\n",
              "      <td>1</td>\n",
              "      <td>0</td>\n",
              "    </tr>\n",
              "    <tr>\n",
              "      <th>296</th>\n",
              "      <td>63</td>\n",
              "      <td>0</td>\n",
              "      <td>0</td>\n",
              "      <td>124</td>\n",
              "      <td>197.0</td>\n",
              "      <td>0</td>\n",
              "      <td>1.0</td>\n",
              "      <td>136.0</td>\n",
              "      <td>1.0</td>\n",
              "      <td>0.0</td>\n",
              "      <td>1</td>\n",
              "      <td>0</td>\n",
              "      <td>2</td>\n",
              "      <td>0</td>\n",
              "    </tr>\n",
              "    <tr>\n",
              "      <th>297</th>\n",
              "      <td>59</td>\n",
              "      <td>1</td>\n",
              "      <td>0</td>\n",
              "      <td>164</td>\n",
              "      <td>176.0</td>\n",
              "      <td>1</td>\n",
              "      <td>0.0</td>\n",
              "      <td>90.0</td>\n",
              "      <td>0.0</td>\n",
              "      <td>1.0</td>\n",
              "      <td>1</td>\n",
              "      <td>2</td>\n",
              "      <td>1</td>\n",
              "      <td>0</td>\n",
              "    </tr>\n",
              "    <tr>\n",
              "      <th>298</th>\n",
              "      <td>57</td>\n",
              "      <td>0</td>\n",
              "      <td>0</td>\n",
              "      <td>140</td>\n",
              "      <td>241.0</td>\n",
              "      <td>0</td>\n",
              "      <td>1.0</td>\n",
              "      <td>123.0</td>\n",
              "      <td>1.0</td>\n",
              "      <td>0.2</td>\n",
              "      <td>1</td>\n",
              "      <td>0</td>\n",
              "      <td>3</td>\n",
              "      <td>0</td>\n",
              "    </tr>\n",
              "    <tr>\n",
              "      <th>299</th>\n",
              "      <td>45</td>\n",
              "      <td>1</td>\n",
              "      <td>3</td>\n",
              "      <td>110</td>\n",
              "      <td>264.0</td>\n",
              "      <td>0</td>\n",
              "      <td>1.0</td>\n",
              "      <td>132.0</td>\n",
              "      <td>0.0</td>\n",
              "      <td>1.2</td>\n",
              "      <td>1</td>\n",
              "      <td>0</td>\n",
              "      <td>3</td>\n",
              "      <td>0</td>\n",
              "    </tr>\n",
              "    <tr>\n",
              "      <th>300</th>\n",
              "      <td>68</td>\n",
              "      <td>1</td>\n",
              "      <td>0</td>\n",
              "      <td>144</td>\n",
              "      <td>193.0</td>\n",
              "      <td>1</td>\n",
              "      <td>1.0</td>\n",
              "      <td>141.0</td>\n",
              "      <td>0.0</td>\n",
              "      <td>3.4</td>\n",
              "      <td>1</td>\n",
              "      <td>2</td>\n",
              "      <td>3</td>\n",
              "      <td>0</td>\n",
              "    </tr>\n",
              "    <tr>\n",
              "      <th>301</th>\n",
              "      <td>57</td>\n",
              "      <td>1</td>\n",
              "      <td>0</td>\n",
              "      <td>130</td>\n",
              "      <td>131.0</td>\n",
              "      <td>0</td>\n",
              "      <td>1.0</td>\n",
              "      <td>115.0</td>\n",
              "      <td>1.0</td>\n",
              "      <td>1.2</td>\n",
              "      <td>1</td>\n",
              "      <td>1</td>\n",
              "      <td>3</td>\n",
              "      <td>0</td>\n",
              "    </tr>\n",
              "  </tbody>\n",
              "</table>\n",
              "</div>"
            ],
            "text/plain": [
              "     age  sex  cp  trestbps   chol  ...  oldpeak  slope  ca  thal  target\n",
              "280   42    1   0       136  315.0  ...      1.8      1   0     1       0\n",
              "281   52    1   0       128  204.0  ...      1.0      1   0     0       0\n",
              "283   40    1   0       152  223.0  ...      0.0      2   0     3       0\n",
              "284   61    1   0       140  207.0  ...      1.9      2   1     3       0\n",
              "286   59    1   3       134  204.0  ...      0.8      2   2     2       0\n",
              "287   57    1   1       154  232.0  ...      0.0      2   1     2       0\n",
              "288   57    1   0       110  335.0  ...      3.0      1   1     3       0\n",
              "289   55    0   0       128  205.0  ...      2.0      1   1     3       0\n",
              "290   61    1   0       148  203.0  ...      0.0      2   1     3       0\n",
              "291   58    1   0       114  318.0  ...      4.4      0   3     1       0\n",
              "292   58    0   0       170  225.0  ...      2.8      1   2     1       0\n",
              "293   67    1   2       152  212.0  ...      0.8      1   0     3       0\n",
              "294   44    1   0       120  169.0  ...      2.8      0   0     1       0\n",
              "296   63    0   0       124  197.0  ...      0.0      1   0     2       0\n",
              "297   59    1   0       164  176.0  ...      1.0      1   2     1       0\n",
              "298   57    0   0       140  241.0  ...      0.2      1   0     3       0\n",
              "299   45    1   3       110  264.0  ...      1.2      1   0     3       0\n",
              "300   68    1   0       144  193.0  ...      3.4      1   2     3       0\n",
              "301   57    1   0       130  131.0  ...      1.2      1   1     3       0\n",
              "\n",
              "[19 rows x 14 columns]"
            ]
          },
          "metadata": {
            "tags": []
          },
          "execution_count": 4
        }
      ]
    },
    {
      "cell_type": "code",
      "metadata": {
        "colab": {
          "base_uri": "https://localhost:8080/"
        },
        "id": "J33npQ4iYU1j",
        "outputId": "91447bad-00f8-4147-e337-79e95226a1dd"
      },
      "source": [
        "data=preprocessed_data\n",
        "print(data.shape)\n",
        "print(data.dtypes)"
      ],
      "execution_count": 5,
      "outputs": [
        {
          "output_type": "stream",
          "text": [
            "(299, 14)\n",
            "age           int64\n",
            "sex           int64\n",
            "cp            int64\n",
            "trestbps      int64\n",
            "chol        float64\n",
            "fbs           int64\n",
            "restecg     float64\n",
            "thalach     float64\n",
            "exang       float64\n",
            "oldpeak     float64\n",
            "slope         int64\n",
            "ca            int64\n",
            "thal          int64\n",
            "target        int64\n",
            "dtype: object\n"
          ],
          "name": "stdout"
        }
      ]
    },
    {
      "cell_type": "code",
      "metadata": {
        "id": "XiWECxpwYU4J",
        "colab": {
          "base_uri": "https://localhost:8080/",
          "height": 297
        },
        "outputId": "a8c5ca63-03f7-4466-943f-33964b59bcfc"
      },
      "source": [
        "data.describe()"
      ],
      "execution_count": 6,
      "outputs": [
        {
          "output_type": "execute_result",
          "data": {
            "text/html": [
              "<div>\n",
              "<style scoped>\n",
              "    .dataframe tbody tr th:only-of-type {\n",
              "        vertical-align: middle;\n",
              "    }\n",
              "\n",
              "    .dataframe tbody tr th {\n",
              "        vertical-align: top;\n",
              "    }\n",
              "\n",
              "    .dataframe thead th {\n",
              "        text-align: right;\n",
              "    }\n",
              "</style>\n",
              "<table border=\"1\" class=\"dataframe\">\n",
              "  <thead>\n",
              "    <tr style=\"text-align: right;\">\n",
              "      <th></th>\n",
              "      <th>age</th>\n",
              "      <th>sex</th>\n",
              "      <th>cp</th>\n",
              "      <th>trestbps</th>\n",
              "      <th>chol</th>\n",
              "      <th>fbs</th>\n",
              "      <th>restecg</th>\n",
              "      <th>thalach</th>\n",
              "      <th>exang</th>\n",
              "      <th>oldpeak</th>\n",
              "      <th>slope</th>\n",
              "      <th>ca</th>\n",
              "      <th>thal</th>\n",
              "      <th>target</th>\n",
              "    </tr>\n",
              "  </thead>\n",
              "  <tbody>\n",
              "    <tr>\n",
              "      <th>count</th>\n",
              "      <td>299.000000</td>\n",
              "      <td>299.000000</td>\n",
              "      <td>299.000000</td>\n",
              "      <td>299.000000</td>\n",
              "      <td>299.000000</td>\n",
              "      <td>299.000000</td>\n",
              "      <td>299.000000</td>\n",
              "      <td>299.000000</td>\n",
              "      <td>299.000000</td>\n",
              "      <td>299.000000</td>\n",
              "      <td>299.000000</td>\n",
              "      <td>299.000000</td>\n",
              "      <td>299.000000</td>\n",
              "      <td>299.000000</td>\n",
              "    </tr>\n",
              "    <tr>\n",
              "      <th>mean</th>\n",
              "      <td>54.341137</td>\n",
              "      <td>0.682274</td>\n",
              "      <td>0.969900</td>\n",
              "      <td>131.591973</td>\n",
              "      <td>246.374582</td>\n",
              "      <td>0.147157</td>\n",
              "      <td>0.528428</td>\n",
              "      <td>149.735786</td>\n",
              "      <td>0.324415</td>\n",
              "      <td>1.026756</td>\n",
              "      <td>1.401338</td>\n",
              "      <td>0.719064</td>\n",
              "      <td>2.314381</td>\n",
              "      <td>0.551839</td>\n",
              "    </tr>\n",
              "    <tr>\n",
              "      <th>std</th>\n",
              "      <td>9.111024</td>\n",
              "      <td>0.466373</td>\n",
              "      <td>1.034196</td>\n",
              "      <td>17.638828</td>\n",
              "      <td>51.899815</td>\n",
              "      <td>0.354856</td>\n",
              "      <td>0.526188</td>\n",
              "      <td>22.930602</td>\n",
              "      <td>0.468941</td>\n",
              "      <td>1.151751</td>\n",
              "      <td>0.618071</td>\n",
              "      <td>1.023878</td>\n",
              "      <td>0.608795</td>\n",
              "      <td>0.498139</td>\n",
              "    </tr>\n",
              "    <tr>\n",
              "      <th>min</th>\n",
              "      <td>29.000000</td>\n",
              "      <td>0.000000</td>\n",
              "      <td>0.000000</td>\n",
              "      <td>94.000000</td>\n",
              "      <td>126.000000</td>\n",
              "      <td>0.000000</td>\n",
              "      <td>0.000000</td>\n",
              "      <td>71.000000</td>\n",
              "      <td>0.000000</td>\n",
              "      <td>0.000000</td>\n",
              "      <td>0.000000</td>\n",
              "      <td>0.000000</td>\n",
              "      <td>0.000000</td>\n",
              "      <td>0.000000</td>\n",
              "    </tr>\n",
              "    <tr>\n",
              "      <th>25%</th>\n",
              "      <td>47.500000</td>\n",
              "      <td>0.000000</td>\n",
              "      <td>0.000000</td>\n",
              "      <td>120.000000</td>\n",
              "      <td>211.000000</td>\n",
              "      <td>0.000000</td>\n",
              "      <td>0.000000</td>\n",
              "      <td>134.500000</td>\n",
              "      <td>0.000000</td>\n",
              "      <td>0.000000</td>\n",
              "      <td>1.000000</td>\n",
              "      <td>0.000000</td>\n",
              "      <td>2.000000</td>\n",
              "      <td>0.000000</td>\n",
              "    </tr>\n",
              "    <tr>\n",
              "      <th>50%</th>\n",
              "      <td>55.000000</td>\n",
              "      <td>1.000000</td>\n",
              "      <td>1.000000</td>\n",
              "      <td>130.000000</td>\n",
              "      <td>241.000000</td>\n",
              "      <td>0.000000</td>\n",
              "      <td>1.000000</td>\n",
              "      <td>153.000000</td>\n",
              "      <td>0.000000</td>\n",
              "      <td>0.800000</td>\n",
              "      <td>1.000000</td>\n",
              "      <td>0.000000</td>\n",
              "      <td>2.000000</td>\n",
              "      <td>1.000000</td>\n",
              "    </tr>\n",
              "    <tr>\n",
              "      <th>75%</th>\n",
              "      <td>61.000000</td>\n",
              "      <td>1.000000</td>\n",
              "      <td>2.000000</td>\n",
              "      <td>140.000000</td>\n",
              "      <td>274.500000</td>\n",
              "      <td>0.000000</td>\n",
              "      <td>1.000000</td>\n",
              "      <td>166.000000</td>\n",
              "      <td>1.000000</td>\n",
              "      <td>1.600000</td>\n",
              "      <td>2.000000</td>\n",
              "      <td>1.000000</td>\n",
              "      <td>3.000000</td>\n",
              "      <td>1.000000</td>\n",
              "    </tr>\n",
              "    <tr>\n",
              "      <th>max</th>\n",
              "      <td>77.000000</td>\n",
              "      <td>1.000000</td>\n",
              "      <td>3.000000</td>\n",
              "      <td>200.000000</td>\n",
              "      <td>564.000000</td>\n",
              "      <td>1.000000</td>\n",
              "      <td>2.000000</td>\n",
              "      <td>202.000000</td>\n",
              "      <td>1.000000</td>\n",
              "      <td>6.200000</td>\n",
              "      <td>2.000000</td>\n",
              "      <td>4.000000</td>\n",
              "      <td>3.000000</td>\n",
              "      <td>1.000000</td>\n",
              "    </tr>\n",
              "  </tbody>\n",
              "</table>\n",
              "</div>"
            ],
            "text/plain": [
              "              age         sex          cp  ...          ca        thal      target\n",
              "count  299.000000  299.000000  299.000000  ...  299.000000  299.000000  299.000000\n",
              "mean    54.341137    0.682274    0.969900  ...    0.719064    2.314381    0.551839\n",
              "std      9.111024    0.466373    1.034196  ...    1.023878    0.608795    0.498139\n",
              "min     29.000000    0.000000    0.000000  ...    0.000000    0.000000    0.000000\n",
              "25%     47.500000    0.000000    0.000000  ...    0.000000    2.000000    0.000000\n",
              "50%     55.000000    1.000000    1.000000  ...    0.000000    2.000000    1.000000\n",
              "75%     61.000000    1.000000    2.000000  ...    1.000000    3.000000    1.000000\n",
              "max     77.000000    1.000000    3.000000  ...    4.000000    3.000000    1.000000\n",
              "\n",
              "[8 rows x 14 columns]"
            ]
          },
          "metadata": {
            "tags": []
          },
          "execution_count": 6
        }
      ]
    },
    {
      "cell_type": "code",
      "metadata": {
        "id": "VbSuZq2lYU6o"
      },
      "source": [
        "X = np.array(data.drop(['target'], 1))\n",
        "Y = np.array(data['target'])"
      ],
      "execution_count": 7,
      "outputs": []
    },
    {
      "cell_type": "code",
      "metadata": {
        "id": "Hyk6qidJmx-e"
      },
      "source": [
        "mean = X.mean(axis=0)\n",
        "X -= mean\n",
        "std = X.std(axis=0)\n",
        "X /= std"
      ],
      "execution_count": 8,
      "outputs": []
    },
    {
      "cell_type": "code",
      "metadata": {
        "id": "x4KeoNFuYVBg"
      },
      "source": [
        "from sklearn import model_selection\n",
        "X_train, X_test, Y_train, Y_test = model_selection.train_test_split(X, Y, random_state=42, test_size = 0.2)"
      ],
      "execution_count": 9,
      "outputs": []
    },
    {
      "cell_type": "code",
      "metadata": {
        "colab": {
          "base_uri": "https://localhost:8080/"
        },
        "id": "b6e8-m90Y6pc",
        "outputId": "dd5fad44-d58a-489d-8607-72338215dd27"
      },
      "source": [
        "from keras.models import Sequential\n",
        "from keras.layers import Dense\n",
        "from keras.optimizers import Adam\n",
        "from keras.layers import Dropout\n",
        "from keras import regularizers\n",
        "\n",
        "\n",
        "def create_neuralnetworkmodel():\n",
        "    # create model\n",
        "    model = Sequential([\n",
        "                      Dense(16, input_dim=13, activation='relu'),  \n",
        "                      Dropout(0.25),\n",
        "                      Dense(8, activation='relu'),\n",
        "                      Dropout(0.25),\n",
        "                      Dense(1, activation='sigmoid')\n",
        "    ])\n",
        "    # Compile model\n",
        "    adam = Adam(lr=0.001)\n",
        "    model.compile(loss='binary_crossentropy', optimizer='rmsprop', metrics=['accuracy'])\n",
        "    return model\n",
        "\n",
        "neural_model = create_neuralnetworkmodel()\n",
        "\n",
        "print(neural_model.summary())"
      ],
      "execution_count": 10,
      "outputs": [
        {
          "output_type": "stream",
          "text": [
            "Model: \"sequential\"\n",
            "_________________________________________________________________\n",
            "Layer (type)                 Output Shape              Param #   \n",
            "=================================================================\n",
            "dense (Dense)                (None, 16)                224       \n",
            "_________________________________________________________________\n",
            "dropout (Dropout)            (None, 16)                0         \n",
            "_________________________________________________________________\n",
            "dense_1 (Dense)              (None, 8)                 136       \n",
            "_________________________________________________________________\n",
            "dropout_1 (Dropout)          (None, 8)                 0         \n",
            "_________________________________________________________________\n",
            "dense_2 (Dense)              (None, 1)                 9         \n",
            "=================================================================\n",
            "Total params: 369\n",
            "Trainable params: 369\n",
            "Non-trainable params: 0\n",
            "_________________________________________________________________\n",
            "None\n"
          ],
          "name": "stdout"
        }
      ]
    },
    {
      "cell_type": "code",
      "metadata": {
        "id": "-wakz1heY6rz",
        "colab": {
          "base_uri": "https://localhost:8080/"
        },
        "outputId": "e8891f96-122d-4dbe-e8f3-e4c168d7eb13"
      },
      "source": [
        "modelfitting=neural_model.fit(X_train, Y_train, validation_data=(X_test, Y_test),epochs=40, batch_size=10)"
      ],
      "execution_count": 11,
      "outputs": [
        {
          "output_type": "stream",
          "text": [
            "Epoch 1/40\n",
            "24/24 [==============================] - 1s 20ms/step - loss: 0.7625 - accuracy: 0.5467 - val_loss: 0.6796 - val_accuracy: 0.6333\n",
            "Epoch 2/40\n",
            "24/24 [==============================] - 0s 3ms/step - loss: 0.7166 - accuracy: 0.5632 - val_loss: 0.6596 - val_accuracy: 0.6333\n",
            "Epoch 3/40\n",
            "24/24 [==============================] - 0s 2ms/step - loss: 0.7271 - accuracy: 0.5420 - val_loss: 0.6403 - val_accuracy: 0.6000\n",
            "Epoch 4/40\n",
            "24/24 [==============================] - 0s 3ms/step - loss: 0.6626 - accuracy: 0.5598 - val_loss: 0.6225 - val_accuracy: 0.6000\n",
            "Epoch 5/40\n",
            "24/24 [==============================] - 0s 3ms/step - loss: 0.6814 - accuracy: 0.6260 - val_loss: 0.6113 - val_accuracy: 0.6667\n",
            "Epoch 6/40\n",
            "24/24 [==============================] - 0s 3ms/step - loss: 0.6306 - accuracy: 0.6971 - val_loss: 0.6009 - val_accuracy: 0.6667\n",
            "Epoch 7/40\n",
            "24/24 [==============================] - 0s 3ms/step - loss: 0.6132 - accuracy: 0.6931 - val_loss: 0.5884 - val_accuracy: 0.6667\n",
            "Epoch 8/40\n",
            "24/24 [==============================] - 0s 3ms/step - loss: 0.5825 - accuracy: 0.7026 - val_loss: 0.5757 - val_accuracy: 0.6667\n",
            "Epoch 9/40\n",
            "24/24 [==============================] - 0s 3ms/step - loss: 0.6066 - accuracy: 0.7004 - val_loss: 0.5632 - val_accuracy: 0.6833\n",
            "Epoch 10/40\n",
            "24/24 [==============================] - 0s 3ms/step - loss: 0.5918 - accuracy: 0.7276 - val_loss: 0.5537 - val_accuracy: 0.7000\n",
            "Epoch 11/40\n",
            "24/24 [==============================] - 0s 3ms/step - loss: 0.5680 - accuracy: 0.7547 - val_loss: 0.5431 - val_accuracy: 0.7333\n",
            "Epoch 12/40\n",
            "24/24 [==============================] - 0s 3ms/step - loss: 0.5824 - accuracy: 0.7903 - val_loss: 0.5342 - val_accuracy: 0.7667\n",
            "Epoch 13/40\n",
            "24/24 [==============================] - 0s 3ms/step - loss: 0.5411 - accuracy: 0.7651 - val_loss: 0.5242 - val_accuracy: 0.7500\n",
            "Epoch 14/40\n",
            "24/24 [==============================] - 0s 3ms/step - loss: 0.5824 - accuracy: 0.6776 - val_loss: 0.5159 - val_accuracy: 0.7833\n",
            "Epoch 15/40\n",
            "24/24 [==============================] - 0s 3ms/step - loss: 0.5541 - accuracy: 0.7333 - val_loss: 0.5075 - val_accuracy: 0.7833\n",
            "Epoch 16/40\n",
            "24/24 [==============================] - 0s 3ms/step - loss: 0.5136 - accuracy: 0.7932 - val_loss: 0.5015 - val_accuracy: 0.7833\n",
            "Epoch 17/40\n",
            "24/24 [==============================] - 0s 3ms/step - loss: 0.4975 - accuracy: 0.8114 - val_loss: 0.4930 - val_accuracy: 0.7667\n",
            "Epoch 18/40\n",
            "24/24 [==============================] - 0s 3ms/step - loss: 0.5519 - accuracy: 0.7757 - val_loss: 0.4840 - val_accuracy: 0.7667\n",
            "Epoch 19/40\n",
            "24/24 [==============================] - 0s 3ms/step - loss: 0.5381 - accuracy: 0.8034 - val_loss: 0.4741 - val_accuracy: 0.7833\n",
            "Epoch 20/40\n",
            "24/24 [==============================] - 0s 3ms/step - loss: 0.4976 - accuracy: 0.8373 - val_loss: 0.4697 - val_accuracy: 0.7833\n",
            "Epoch 21/40\n",
            "24/24 [==============================] - 0s 3ms/step - loss: 0.5386 - accuracy: 0.7846 - val_loss: 0.4646 - val_accuracy: 0.8000\n",
            "Epoch 22/40\n",
            "24/24 [==============================] - 0s 3ms/step - loss: 0.5058 - accuracy: 0.8353 - val_loss: 0.4582 - val_accuracy: 0.8000\n",
            "Epoch 23/40\n",
            "24/24 [==============================] - 0s 3ms/step - loss: 0.5091 - accuracy: 0.7582 - val_loss: 0.4515 - val_accuracy: 0.8000\n",
            "Epoch 24/40\n",
            "24/24 [==============================] - 0s 3ms/step - loss: 0.4908 - accuracy: 0.7895 - val_loss: 0.4458 - val_accuracy: 0.8000\n",
            "Epoch 25/40\n",
            "24/24 [==============================] - 0s 3ms/step - loss: 0.5056 - accuracy: 0.8362 - val_loss: 0.4438 - val_accuracy: 0.8000\n",
            "Epoch 26/40\n",
            "24/24 [==============================] - 0s 3ms/step - loss: 0.5038 - accuracy: 0.8172 - val_loss: 0.4381 - val_accuracy: 0.8000\n",
            "Epoch 27/40\n",
            "24/24 [==============================] - 0s 3ms/step - loss: 0.4703 - accuracy: 0.8427 - val_loss: 0.4358 - val_accuracy: 0.8333\n",
            "Epoch 28/40\n",
            "24/24 [==============================] - 0s 3ms/step - loss: 0.5031 - accuracy: 0.8300 - val_loss: 0.4307 - val_accuracy: 0.8333\n",
            "Epoch 29/40\n",
            "24/24 [==============================] - 0s 3ms/step - loss: 0.4218 - accuracy: 0.8657 - val_loss: 0.4270 - val_accuracy: 0.8167\n",
            "Epoch 30/40\n",
            "24/24 [==============================] - 0s 3ms/step - loss: 0.4316 - accuracy: 0.8492 - val_loss: 0.4209 - val_accuracy: 0.8333\n",
            "Epoch 31/40\n",
            "24/24 [==============================] - 0s 3ms/step - loss: 0.4991 - accuracy: 0.7911 - val_loss: 0.4156 - val_accuracy: 0.8333\n",
            "Epoch 32/40\n",
            "24/24 [==============================] - 0s 3ms/step - loss: 0.4707 - accuracy: 0.8703 - val_loss: 0.4130 - val_accuracy: 0.8500\n",
            "Epoch 33/40\n",
            "24/24 [==============================] - 0s 3ms/step - loss: 0.4507 - accuracy: 0.8400 - val_loss: 0.4111 - val_accuracy: 0.8333\n",
            "Epoch 34/40\n",
            "24/24 [==============================] - 0s 3ms/step - loss: 0.4492 - accuracy: 0.8226 - val_loss: 0.4085 - val_accuracy: 0.8500\n",
            "Epoch 35/40\n",
            "24/24 [==============================] - 0s 3ms/step - loss: 0.4655 - accuracy: 0.8073 - val_loss: 0.4069 - val_accuracy: 0.8667\n",
            "Epoch 36/40\n",
            "24/24 [==============================] - 0s 3ms/step - loss: 0.4763 - accuracy: 0.8580 - val_loss: 0.4043 - val_accuracy: 0.8667\n",
            "Epoch 37/40\n",
            "24/24 [==============================] - 0s 3ms/step - loss: 0.4249 - accuracy: 0.8476 - val_loss: 0.4009 - val_accuracy: 0.8667\n",
            "Epoch 38/40\n",
            "24/24 [==============================] - 0s 3ms/step - loss: 0.4658 - accuracy: 0.8330 - val_loss: 0.4002 - val_accuracy: 0.8833\n",
            "Epoch 39/40\n",
            "24/24 [==============================] - 0s 3ms/step - loss: 0.4546 - accuracy: 0.8568 - val_loss: 0.3996 - val_accuracy: 0.8833\n",
            "Epoch 40/40\n",
            "24/24 [==============================] - 0s 3ms/step - loss: 0.4423 - accuracy: 0.8344 - val_loss: 0.3986 - val_accuracy: 0.8667\n"
          ],
          "name": "stdout"
        }
      ]
    },
    {
      "cell_type": "code",
      "metadata": {
        "id": "YCtbYQW9Y6wC"
      },
      "source": [
        "predictions=neural_model.predict(X)\n",
        "final_binary_prediction=(predictions > 0.5).astype( np.int32 )"
      ],
      "execution_count": 12,
      "outputs": []
    },
    {
      "cell_type": "code",
      "metadata": {
        "id": "nGy6vBgajKha"
      },
      "source": [
        "%matplotlib inline\n",
        "from sklearn.metrics import confusion_matrix\n",
        "import itertools\n",
        "import matplotlib.pyplot as plt\n",
        "\n",
        "cm = confusion_matrix(y_true=Y, y_pred=final_binary_prediction)\n",
        "\n",
        "def plot_confusion_matrix(cm, classes,\n",
        "                        normalize=False,\n",
        "                        title='Confusion matrix',\n",
        "                        cmap=plt.cm.Greens):\n",
        "    \"\"\"\n",
        "    This function prints and plots the confusion matrix.\n",
        "    Normalization can be applied by setting `normalize=True`.\n",
        "    \"\"\"\n",
        "    plt.imshow(cm, interpolation='nearest', cmap=cmap)\n",
        "    plt.title(title)\n",
        "    plt.colorbar()\n",
        "    tick_marks = np.arange(len(classes))\n",
        "    plt.xticks(tick_marks, classes, rotation=45)\n",
        "    plt.yticks(tick_marks, classes)\n",
        "\n",
        "    print(compile)\n",
        "\n",
        "    thresh = cm.max() / 2.\n",
        "    for i, j in itertools.product(range(cm.shape[0]), range(cm.shape[1])):\n",
        "        plt.text(j, i, cm[i, j],\n",
        "            horizontalalignment=\"center\",\n",
        "            color=\"white\" if cm[i, j] > thresh else \"black\")\n",
        "\n",
        "    plt.tight_layout()\n",
        "    plt.ylabel('Actual target')\n",
        "    plt.xlabel('Predicted target')\n",
        "\n",
        "    \n",
        "   "
      ],
      "execution_count": 13,
      "outputs": []
    },
    {
      "cell_type": "code",
      "metadata": {
        "id": "3bnSn21kxyez"
      },
      "source": [
        "ClassLabels = ['no_cardiac_disease','had_cardiac_disease']\n"
      ],
      "execution_count": 15,
      "outputs": []
    },
    {
      "cell_type": "code",
      "metadata": {
        "id": "f0CG0jllSPuL",
        "colab": {
          "base_uri": "https://localhost:8080/",
          "height": 328
        },
        "outputId": "644cf87d-a878-4a7a-b5be-4ec506d91334"
      },
      "source": [
        " plot_confusion_matrix(cm=cm,classes=ClassLabels,title='Confusion Matrix')"
      ],
      "execution_count": 16,
      "outputs": [
        {
          "output_type": "stream",
          "text": [
            "<built-in function compile>\n"
          ],
          "name": "stdout"
        },
        {
          "output_type": "display_data",
          "data": {
            "image/png": "[encoded data removed]",
            "text/plain": [
              "<Figure size 432x288 with 2 Axes>"
            ]
          },
          "metadata": {
            "tags": [],
            "needs_background": "light"
          }
        }
      ]
    },
    {
      "cell_type": "code",
      "metadata": {
        "colab": {
          "base_uri": "https://localhost:8080/",
          "height": 295
        },
        "id": "QMRooSBhkddG",
        "outputId": "3c8be98f-1ec4-4d74-d440-7cef21ddb19d"
      },
      "source": [
        "import matplotlib.pyplot as plt\n",
        "%matplotlib inline\n",
        "# Model accuracy\n",
        "plt.plot(modelfitting.history['accuracy'])\n",
        "plt.plot(modelfitting.history['val_accuracy'])\n",
        "plt.title('Model Accuracy')\n",
        "plt.ylabel('accuracy')\n",
        "plt.xlabel('epoch')\n",
        "plt.legend(['train', 'test'])\n",
        "plt.show()"
      ],
      "execution_count": null,
      "outputs": [
        {
          "output_type": "display_data",
          "data": {
            "image/png": "[encoded data removed]",
            "text/plain": [
              "<Figure size 432x288 with 1 Axes>"
            ]
          },
          "metadata": {
            "tags": []
          }
        }
      ]
    },
    {
      "cell_type": "code",
      "metadata": {
        "colab": {
          "base_uri": "https://localhost:8080/",
          "height": 295
        },
        "id": "oVUaOF9Kkdfj",
        "outputId": "a98fb94a-90d9-4a29-ce3c-3d12fac52dd7"
      },
      "source": [
        "# Model Losss\n",
        "plt.plot(modelfitting.history['loss'])\n",
        "plt.plot(modelfitting.history['val_loss'])\n",
        "plt.title('Model Loss')\n",
        "plt.ylabel('loss')\n",
        "plt.xlabel('epoch')\n",
        "plt.legend(['train', 'test'])\n",
        "plt.show()"
      ],
      "execution_count": null,
      "outputs": [
        {
          "output_type": "display_data",
          "data": {
            "image/png": "[encoded data removed]",
            "text/plain": [
              "<Figure size 432x288 with 1 Axes>"
            ]
          },
          "metadata": {
            "tags": []
          }
        }
      ]
    },
    {
      "cell_type": "code",
      "metadata": {
        "id": "YsUHfks1x-QW"
      },
      "source": [
        "from sklearn import model_selection\n",
        "X_train, X_test, Y_train, Y_test = model_selection.train_test_split(X, Y, random_state=42, test_size = 0.5)"
      ],
      "execution_count": 17,
      "outputs": []
    },
    {
      "cell_type": "code",
      "metadata": {
        "colab": {
          "base_uri": "https://localhost:8080/"
        },
        "id": "CSDLr7B-x-TM",
        "outputId": "ad83b54d-696c-4b7d-9bce-dd80c1f1fc9e"
      },
      "source": [
        "modelfitting=neural_model.fit(X_train, Y_train, validation_data=(X_test, Y_test),epochs=40, batch_size=10)"
      ],
      "execution_count": 18,
      "outputs": [
        {
          "output_type": "stream",
          "text": [
            "Epoch 1/40\n",
            "15/15 [==============================] - 0s 10ms/step - loss: 0.4007 - accuracy: 0.8658 - val_loss: 0.4278 - val_accuracy: 0.8467\n",
            "Epoch 2/40\n",
            "15/15 [==============================] - 0s 6ms/step - loss: 0.4086 - accuracy: 0.8926 - val_loss: 0.4304 - val_accuracy: 0.8267\n",
            "Epoch 3/40\n",
            "15/15 [==============================] - 0s 5ms/step - loss: 0.4140 - accuracy: 0.8792 - val_loss: 0.4327 - val_accuracy: 0.8133\n",
            "Epoch 4/40\n",
            "15/15 [==============================] - 0s 6ms/step - loss: 0.3726 - accuracy: 0.9262 - val_loss: 0.4356 - val_accuracy: 0.8133\n",
            "Epoch 5/40\n",
            "15/15 [==============================] - 0s 6ms/step - loss: 0.3717 - accuracy: 0.8859 - val_loss: 0.4375 - val_accuracy: 0.8067\n",
            "Epoch 6/40\n",
            "15/15 [==============================] - 0s 5ms/step - loss: 0.3803 - accuracy: 0.8993 - val_loss: 0.4404 - val_accuracy: 0.8133\n",
            "Epoch 7/40\n",
            "15/15 [==============================] - 0s 7ms/step - loss: 0.3810 - accuracy: 0.8859 - val_loss: 0.4440 - val_accuracy: 0.8133\n",
            "Epoch 8/40\n",
            "15/15 [==============================] - 0s 5ms/step - loss: 0.3577 - accuracy: 0.9195 - val_loss: 0.4482 - val_accuracy: 0.8133\n",
            "Epoch 9/40\n",
            "15/15 [==============================] - 0s 5ms/step - loss: 0.3760 - accuracy: 0.8658 - val_loss: 0.4497 - val_accuracy: 0.8200\n",
            "Epoch 10/40\n",
            "15/15 [==============================] - 0s 5ms/step - loss: 0.3359 - accuracy: 0.9262 - val_loss: 0.4550 - val_accuracy: 0.8200\n",
            "Epoch 11/40\n",
            "15/15 [==============================] - 0s 5ms/step - loss: 0.3949 - accuracy: 0.8859 - val_loss: 0.4569 - val_accuracy: 0.8200\n",
            "Epoch 12/40\n",
            "15/15 [==============================] - 0s 5ms/step - loss: 0.3739 - accuracy: 0.8993 - val_loss: 0.4603 - val_accuracy: 0.8133\n",
            "Epoch 13/40\n",
            "15/15 [==============================] - 0s 5ms/step - loss: 0.3325 - accuracy: 0.8993 - val_loss: 0.4643 - val_accuracy: 0.8133\n",
            "Epoch 14/40\n",
            "15/15 [==============================] - 0s 6ms/step - loss: 0.3523 - accuracy: 0.9128 - val_loss: 0.4676 - val_accuracy: 0.8133\n",
            "Epoch 15/40\n",
            "15/15 [==============================] - 0s 6ms/step - loss: 0.3458 - accuracy: 0.8926 - val_loss: 0.4674 - val_accuracy: 0.8067\n",
            "Epoch 16/40\n",
            "15/15 [==============================] - 0s 6ms/step - loss: 0.3702 - accuracy: 0.8859 - val_loss: 0.4701 - val_accuracy: 0.8133\n",
            "Epoch 17/40\n",
            "15/15 [==============================] - 0s 5ms/step - loss: 0.3529 - accuracy: 0.8993 - val_loss: 0.4728 - val_accuracy: 0.8133\n",
            "Epoch 18/40\n",
            "15/15 [==============================] - 0s 4ms/step - loss: 0.3647 - accuracy: 0.8926 - val_loss: 0.4760 - val_accuracy: 0.8133\n",
            "Epoch 19/40\n",
            "15/15 [==============================] - 0s 4ms/step - loss: 0.3285 - accuracy: 0.9262 - val_loss: 0.4780 - val_accuracy: 0.8133\n",
            "Epoch 20/40\n",
            "15/15 [==============================] - 0s 5ms/step - loss: 0.3342 - accuracy: 0.9195 - val_loss: 0.4776 - val_accuracy: 0.8133\n",
            "Epoch 21/40\n",
            "15/15 [==============================] - 0s 4ms/step - loss: 0.3080 - accuracy: 0.9195 - val_loss: 0.4835 - val_accuracy: 0.8133\n",
            "Epoch 22/40\n",
            "15/15 [==============================] - 0s 4ms/step - loss: 0.3316 - accuracy: 0.9262 - val_loss: 0.4903 - val_accuracy: 0.8067\n",
            "Epoch 23/40\n",
            "15/15 [==============================] - 0s 4ms/step - loss: 0.3262 - accuracy: 0.8792 - val_loss: 0.4935 - val_accuracy: 0.8133\n",
            "Epoch 24/40\n",
            "15/15 [==============================] - 0s 5ms/step - loss: 0.3226 - accuracy: 0.9128 - val_loss: 0.4958 - val_accuracy: 0.8133\n",
            "Epoch 25/40\n",
            "15/15 [==============================] - 0s 5ms/step - loss: 0.3349 - accuracy: 0.8993 - val_loss: 0.4953 - val_accuracy: 0.8133\n",
            "Epoch 26/40\n",
            "15/15 [==============================] - 0s 4ms/step - loss: 0.3214 - accuracy: 0.9128 - val_loss: 0.4989 - val_accuracy: 0.8133\n",
            "Epoch 27/40\n",
            "15/15 [==============================] - 0s 4ms/step - loss: 0.3203 - accuracy: 0.9262 - val_loss: 0.5009 - val_accuracy: 0.8133\n",
            "Epoch 28/40\n",
            "15/15 [==============================] - 0s 5ms/step - loss: 0.3160 - accuracy: 0.8993 - val_loss: 0.5034 - val_accuracy: 0.8133\n",
            "Epoch 29/40\n",
            "15/15 [==============================] - 0s 4ms/step - loss: 0.3344 - accuracy: 0.8993 - val_loss: 0.5069 - val_accuracy: 0.8133\n",
            "Epoch 30/40\n",
            "15/15 [==============================] - 0s 4ms/step - loss: 0.2914 - accuracy: 0.9262 - val_loss: 0.5130 - val_accuracy: 0.8133\n",
            "Epoch 31/40\n",
            "15/15 [==============================] - 0s 4ms/step - loss: 0.3171 - accuracy: 0.9060 - val_loss: 0.5180 - val_accuracy: 0.8133\n",
            "Epoch 32/40\n",
            "15/15 [==============================] - 0s 5ms/step - loss: 0.2936 - accuracy: 0.9530 - val_loss: 0.5219 - val_accuracy: 0.8200\n",
            "Epoch 33/40\n",
            "15/15 [==============================] - 0s 6ms/step - loss: 0.2685 - accuracy: 0.9329 - val_loss: 0.5251 - val_accuracy: 0.8200\n",
            "Epoch 34/40\n",
            "15/15 [==============================] - 0s 5ms/step - loss: 0.2927 - accuracy: 0.9060 - val_loss: 0.5314 - val_accuracy: 0.8133\n",
            "Epoch 35/40\n",
            "15/15 [==============================] - 0s 5ms/step - loss: 0.3075 - accuracy: 0.9262 - val_loss: 0.5347 - val_accuracy: 0.8133\n",
            "Epoch 36/40\n",
            "15/15 [==============================] - 0s 6ms/step - loss: 0.3336 - accuracy: 0.9128 - val_loss: 0.5331 - val_accuracy: 0.8133\n",
            "Epoch 37/40\n",
            "15/15 [==============================] - 0s 5ms/step - loss: 0.2730 - accuracy: 0.9329 - val_loss: 0.5332 - val_accuracy: 0.8133\n",
            "Epoch 38/40\n",
            "15/15 [==============================] - 0s 5ms/step - loss: 0.2770 - accuracy: 0.9262 - val_loss: 0.5444 - val_accuracy: 0.8133\n",
            "Epoch 39/40\n",
            "15/15 [==============================] - 0s 5ms/step - loss: 0.3179 - accuracy: 0.9262 - val_loss: 0.5476 - val_accuracy: 0.8133\n",
            "Epoch 40/40\n",
            "15/15 [==============================] - 0s 5ms/step - loss: 0.2868 - accuracy: 0.9262 - val_loss: 0.5465 - val_accuracy: 0.8133\n"
          ],
          "name": "stdout"
        }
      ]
    },
    {
      "cell_type": "code",
      "metadata": {
        "id": "dRrp5WLEx-V-"
      },
      "source": [
        "predictions=neural_model.predict(X)\n",
        "final_binary_prediction=(predictions > 0.5).astype( np.int32 )"
      ],
      "execution_count": 19,
      "outputs": []
    },
    {
      "cell_type": "code",
      "metadata": {
        "colab": {
          "base_uri": "https://localhost:8080/",
          "height": 328
        },
        "id": "P3RdlxaPx-YU",
        "outputId": "7524ce8e-a854-4309-ca6b-c08f75e71a07"
      },
      "source": [
        "cm = confusion_matrix(y_true=Y, y_pred=final_binary_prediction)\n",
        "plot_confusion_matrix(cm=cm,classes=ClassLabels,title='Confusion Matrix')"
      ],
      "execution_count": 21,
      "outputs": [
        {
          "output_type": "stream",
          "text": [
            "<built-in function compile>\n"
          ],
          "name": "stdout"
        },
        {
          "output_type": "display_data",
          "data": {
            "image/png": "[encoded data removed]",
            "text/plain": [
              "<Figure size 432x288 with 2 Axes>"
            ]
          },
          "metadata": {
            "tags": [],
            "needs_background": "light"
          }
        }
      ]
    },
    {
      "cell_type": "code",
      "metadata": {
        "id": "1G8w7HbTx-an"
      },
      "source": [
        "from sklearn import model_selection\n",
        "X_train, X_test, Y_train, Y_test = model_selection.train_test_split(X, Y, random_state=42, test_size = 0.4)"
      ],
      "execution_count": 23,
      "outputs": []
    },
    {
      "cell_type": "code",
      "metadata": {
        "colab": {
          "base_uri": "https://localhost:8080/"
        },
        "id": "ulZA8t_Hx-e4",
        "outputId": "b5682e81-f63f-48f1-b482-55a6cbcf6d9f"
      },
      "source": [
        "modelfitting=neural_model.fit(X_train, Y_train, validation_data=(X_test, Y_test),epochs=40, batch_size=10)"
      ],
      "execution_count": 24,
      "outputs": [
        {
          "output_type": "stream",
          "text": [
            "Epoch 1/40\n",
            "18/18 [==============================] - 0s 8ms/step - loss: 0.3808 - accuracy: 0.9218 - val_loss: 0.4899 - val_accuracy: 0.8167\n",
            "Epoch 2/40\n",
            "18/18 [==============================] - 0s 5ms/step - loss: 0.3927 - accuracy: 0.9330 - val_loss: 0.4849 - val_accuracy: 0.8083\n",
            "Epoch 3/40\n",
            "18/18 [==============================] - 0s 5ms/step - loss: 0.3627 - accuracy: 0.9106 - val_loss: 0.4821 - val_accuracy: 0.8083\n",
            "Epoch 4/40\n",
            "18/18 [==============================] - 0s 5ms/step - loss: 0.3792 - accuracy: 0.9050 - val_loss: 0.4764 - val_accuracy: 0.7917\n",
            "Epoch 5/40\n",
            "18/18 [==============================] - 0s 5ms/step - loss: 0.3389 - accuracy: 0.9106 - val_loss: 0.4771 - val_accuracy: 0.7917\n",
            "Epoch 6/40\n",
            "18/18 [==============================] - 0s 4ms/step - loss: 0.3243 - accuracy: 0.9162 - val_loss: 0.4781 - val_accuracy: 0.7917\n",
            "Epoch 7/40\n",
            "18/18 [==============================] - 0s 4ms/step - loss: 0.3887 - accuracy: 0.9050 - val_loss: 0.4749 - val_accuracy: 0.8000\n",
            "Epoch 8/40\n",
            "18/18 [==============================] - 0s 4ms/step - loss: 0.3611 - accuracy: 0.9050 - val_loss: 0.4756 - val_accuracy: 0.8000\n",
            "Epoch 9/40\n",
            "18/18 [==============================] - 0s 3ms/step - loss: 0.3432 - accuracy: 0.9162 - val_loss: 0.4723 - val_accuracy: 0.7917\n",
            "Epoch 10/40\n",
            "18/18 [==============================] - 0s 4ms/step - loss: 0.3484 - accuracy: 0.9050 - val_loss: 0.4745 - val_accuracy: 0.7917\n",
            "Epoch 11/40\n",
            "18/18 [==============================] - 0s 4ms/step - loss: 0.3242 - accuracy: 0.9162 - val_loss: 0.4706 - val_accuracy: 0.7917\n",
            "Epoch 12/40\n",
            "18/18 [==============================] - 0s 3ms/step - loss: 0.3562 - accuracy: 0.8715 - val_loss: 0.4737 - val_accuracy: 0.7917\n",
            "Epoch 13/40\n",
            "18/18 [==============================] - 0s 4ms/step - loss: 0.3515 - accuracy: 0.8994 - val_loss: 0.4716 - val_accuracy: 0.7917\n",
            "Epoch 14/40\n",
            "18/18 [==============================] - 0s 4ms/step - loss: 0.3429 - accuracy: 0.8939 - val_loss: 0.4702 - val_accuracy: 0.7917\n",
            "Epoch 15/40\n",
            "18/18 [==============================] - 0s 4ms/step - loss: 0.3352 - accuracy: 0.9050 - val_loss: 0.4741 - val_accuracy: 0.7833\n",
            "Epoch 16/40\n",
            "18/18 [==============================] - 0s 4ms/step - loss: 0.3297 - accuracy: 0.9050 - val_loss: 0.4723 - val_accuracy: 0.7833\n",
            "Epoch 17/40\n",
            "18/18 [==============================] - 0s 4ms/step - loss: 0.3450 - accuracy: 0.8939 - val_loss: 0.4729 - val_accuracy: 0.7833\n",
            "Epoch 18/40\n",
            "18/18 [==============================] - 0s 4ms/step - loss: 0.3537 - accuracy: 0.9162 - val_loss: 0.4771 - val_accuracy: 0.7833\n",
            "Epoch 19/40\n",
            "18/18 [==============================] - 0s 3ms/step - loss: 0.2794 - accuracy: 0.9274 - val_loss: 0.4808 - val_accuracy: 0.7833\n",
            "Epoch 20/40\n",
            "18/18 [==============================] - 0s 4ms/step - loss: 0.2917 - accuracy: 0.9106 - val_loss: 0.4813 - val_accuracy: 0.7833\n",
            "Epoch 21/40\n",
            "18/18 [==============================] - 0s 5ms/step - loss: 0.3204 - accuracy: 0.9162 - val_loss: 0.4812 - val_accuracy: 0.7833\n",
            "Epoch 22/40\n",
            "18/18 [==============================] - 0s 5ms/step - loss: 0.3231 - accuracy: 0.9106 - val_loss: 0.4825 - val_accuracy: 0.7750\n",
            "Epoch 23/40\n",
            "18/18 [==============================] - 0s 5ms/step - loss: 0.3518 - accuracy: 0.8715 - val_loss: 0.4821 - val_accuracy: 0.7750\n",
            "Epoch 24/40\n",
            "18/18 [==============================] - 0s 5ms/step - loss: 0.3018 - accuracy: 0.9162 - val_loss: 0.4803 - val_accuracy: 0.7750\n",
            "Epoch 25/40\n",
            "18/18 [==============================] - 0s 4ms/step - loss: 0.3116 - accuracy: 0.9162 - val_loss: 0.4791 - val_accuracy: 0.7750\n",
            "Epoch 26/40\n",
            "18/18 [==============================] - 0s 5ms/step - loss: 0.3037 - accuracy: 0.9274 - val_loss: 0.4781 - val_accuracy: 0.7833\n",
            "Epoch 27/40\n",
            "18/18 [==============================] - 0s 5ms/step - loss: 0.2555 - accuracy: 0.9162 - val_loss: 0.4803 - val_accuracy: 0.7917\n",
            "Epoch 28/40\n",
            "18/18 [==============================] - 0s 4ms/step - loss: 0.3047 - accuracy: 0.8994 - val_loss: 0.4840 - val_accuracy: 0.7917\n",
            "Epoch 29/40\n",
            "18/18 [==============================] - 0s 4ms/step - loss: 0.2943 - accuracy: 0.9218 - val_loss: 0.4864 - val_accuracy: 0.7917\n",
            "Epoch 30/40\n",
            "18/18 [==============================] - 0s 4ms/step - loss: 0.3522 - accuracy: 0.9106 - val_loss: 0.4901 - val_accuracy: 0.7917\n",
            "Epoch 31/40\n",
            "18/18 [==============================] - 0s 4ms/step - loss: 0.3263 - accuracy: 0.8994 - val_loss: 0.4885 - val_accuracy: 0.7917\n",
            "Epoch 32/40\n",
            "18/18 [==============================] - 0s 5ms/step - loss: 0.2891 - accuracy: 0.9218 - val_loss: 0.4906 - val_accuracy: 0.7917\n",
            "Epoch 33/40\n",
            "18/18 [==============================] - 0s 4ms/step - loss: 0.2653 - accuracy: 0.9218 - val_loss: 0.4951 - val_accuracy: 0.7917\n",
            "Epoch 34/40\n",
            "18/18 [==============================] - 0s 3ms/step - loss: 0.3061 - accuracy: 0.9050 - val_loss: 0.4954 - val_accuracy: 0.7917\n",
            "Epoch 35/40\n",
            "18/18 [==============================] - 0s 4ms/step - loss: 0.2902 - accuracy: 0.9218 - val_loss: 0.4976 - val_accuracy: 0.7917\n",
            "Epoch 36/40\n",
            "18/18 [==============================] - 0s 4ms/step - loss: 0.2608 - accuracy: 0.9218 - val_loss: 0.4925 - val_accuracy: 0.7917\n",
            "Epoch 37/40\n",
            "18/18 [==============================] - 0s 4ms/step - loss: 0.2886 - accuracy: 0.9050 - val_loss: 0.4912 - val_accuracy: 0.7917\n",
            "Epoch 38/40\n",
            "18/18 [==============================] - 0s 3ms/step - loss: 0.2768 - accuracy: 0.9106 - val_loss: 0.4919 - val_accuracy: 0.7917\n",
            "Epoch 39/40\n",
            "18/18 [==============================] - 0s 3ms/step - loss: 0.2492 - accuracy: 0.9162 - val_loss: 0.4968 - val_accuracy: 0.7917\n",
            "Epoch 40/40\n",
            "18/18 [==============================] - 0s 4ms/step - loss: 0.3009 - accuracy: 0.9106 - val_loss: 0.4985 - val_accuracy: 0.7917\n"
          ],
          "name": "stdout"
        }
      ]
    },
    {
      "cell_type": "code",
      "metadata": {
        "id": "GOT--xgpx-hr"
      },
      "source": [
        "predictions=neural_model.predict(X)\n",
        "final_binary_prediction=(predictions > 0.5).astype( np.int32 )"
      ],
      "execution_count": 25,
      "outputs": []
    },
    {
      "cell_type": "code",
      "metadata": {
        "colab": {
          "base_uri": "https://localhost:8080/",
          "height": 328
        },
        "id": "8gpJ8Lxhx-kH",
        "outputId": "fed64247-a692-4f31-d577-6f3796abcba7"
      },
      "source": [
        "cm = confusion_matrix(y_true=Y, y_pred=final_binary_prediction)\n",
        "plot_confusion_matrix(cm=cm,classes=ClassLabels,title='Confusion Matrix')"
      ],
      "execution_count": 26,
      "outputs": [
        {
          "output_type": "stream",
          "text": [
            "<built-in function compile>\n"
          ],
          "name": "stdout"
        },
        {
          "output_type": "display_data",
          "data": {
            "image/png": "[encoded data removed]",
            "text/plain": [
              "<Figure size 432x288 with 2 Axes>"
            ]
          },
          "metadata": {
            "tags": [],
            "needs_background": "light"
          }
        }
      ]
    },
    {
      "cell_type": "code",
      "metadata": {
        "id": "FwdHNQatx-n_"
      },
      "source": [
        "from sklearn import model_selection\n",
        "X_train, X_test, Y_train, Y_test = model_selection.train_test_split(X, Y, random_state=42, test_size = 0.3)"
      ],
      "execution_count": 27,
      "outputs": []
    },
    {
      "cell_type": "code",
      "metadata": {
        "colab": {
          "base_uri": "https://localhost:8080/"
        },
        "id": "QLVJ99aux-qN",
        "outputId": "de5d991d-6260-4ebe-a072-f5d22730124b"
      },
      "source": [
        "modelfitting=neural_model.fit(X_train, Y_train, validation_data=(X_test, Y_test),epochs=40, batch_size=10)"
      ],
      "execution_count": 28,
      "outputs": [
        {
          "output_type": "stream",
          "text": [
            "Epoch 1/40\n",
            "21/21 [==============================] - 0s 5ms/step - loss: 0.3401 - accuracy: 0.8708 - val_loss: 0.4591 - val_accuracy: 0.8222\n",
            "Epoch 2/40\n",
            "21/21 [==============================] - 0s 3ms/step - loss: 0.3500 - accuracy: 0.8804 - val_loss: 0.4554 - val_accuracy: 0.8111\n",
            "Epoch 3/40\n",
            "21/21 [==============================] - 0s 3ms/step - loss: 0.3353 - accuracy: 0.8708 - val_loss: 0.4501 - val_accuracy: 0.8111\n",
            "Epoch 4/40\n",
            "21/21 [==============================] - 0s 3ms/step - loss: 0.3559 - accuracy: 0.8852 - val_loss: 0.4478 - val_accuracy: 0.8111\n",
            "Epoch 5/40\n",
            "21/21 [==============================] - 0s 3ms/step - loss: 0.3563 - accuracy: 0.8900 - val_loss: 0.4452 - val_accuracy: 0.8111\n",
            "Epoch 6/40\n",
            "21/21 [==============================] - 0s 3ms/step - loss: 0.2922 - accuracy: 0.9043 - val_loss: 0.4413 - val_accuracy: 0.8222\n",
            "Epoch 7/40\n",
            "21/21 [==============================] - 0s 4ms/step - loss: 0.2978 - accuracy: 0.9043 - val_loss: 0.4360 - val_accuracy: 0.8333\n",
            "Epoch 8/40\n",
            "21/21 [==============================] - 0s 3ms/step - loss: 0.2990 - accuracy: 0.8852 - val_loss: 0.4333 - val_accuracy: 0.8222\n",
            "Epoch 9/40\n",
            "21/21 [==============================] - 0s 3ms/step - loss: 0.3429 - accuracy: 0.8756 - val_loss: 0.4259 - val_accuracy: 0.8222\n",
            "Epoch 10/40\n",
            "21/21 [==============================] - 0s 3ms/step - loss: 0.3179 - accuracy: 0.8852 - val_loss: 0.4237 - val_accuracy: 0.8333\n",
            "Epoch 11/40\n",
            "21/21 [==============================] - 0s 3ms/step - loss: 0.2731 - accuracy: 0.9043 - val_loss: 0.4244 - val_accuracy: 0.8333\n",
            "Epoch 12/40\n",
            "21/21 [==============================] - 0s 3ms/step - loss: 0.3262 - accuracy: 0.8947 - val_loss: 0.4220 - val_accuracy: 0.8333\n",
            "Epoch 13/40\n",
            "21/21 [==============================] - 0s 4ms/step - loss: 0.2717 - accuracy: 0.9139 - val_loss: 0.4253 - val_accuracy: 0.8222\n",
            "Epoch 14/40\n",
            "21/21 [==============================] - 0s 3ms/step - loss: 0.3049 - accuracy: 0.8995 - val_loss: 0.4222 - val_accuracy: 0.8000\n",
            "Epoch 15/40\n",
            "21/21 [==============================] - 0s 3ms/step - loss: 0.2756 - accuracy: 0.9091 - val_loss: 0.4195 - val_accuracy: 0.8000\n",
            "Epoch 16/40\n",
            "21/21 [==============================] - 0s 3ms/step - loss: 0.3254 - accuracy: 0.8852 - val_loss: 0.4156 - val_accuracy: 0.8000\n",
            "Epoch 17/40\n",
            "21/21 [==============================] - 0s 3ms/step - loss: 0.3101 - accuracy: 0.9091 - val_loss: 0.4136 - val_accuracy: 0.8000\n",
            "Epoch 18/40\n",
            "21/21 [==============================] - 0s 3ms/step - loss: 0.2938 - accuracy: 0.9091 - val_loss: 0.4141 - val_accuracy: 0.7889\n",
            "Epoch 19/40\n",
            "21/21 [==============================] - 0s 3ms/step - loss: 0.2752 - accuracy: 0.8995 - val_loss: 0.4117 - val_accuracy: 0.8111\n",
            "Epoch 20/40\n",
            "21/21 [==============================] - 0s 3ms/step - loss: 0.3290 - accuracy: 0.8947 - val_loss: 0.4094 - val_accuracy: 0.8000\n",
            "Epoch 21/40\n",
            "21/21 [==============================] - 0s 3ms/step - loss: 0.3275 - accuracy: 0.8804 - val_loss: 0.4074 - val_accuracy: 0.8222\n",
            "Epoch 22/40\n",
            "21/21 [==============================] - 0s 3ms/step - loss: 0.2869 - accuracy: 0.8995 - val_loss: 0.4089 - val_accuracy: 0.8444\n",
            "Epoch 23/40\n",
            "21/21 [==============================] - 0s 3ms/step - loss: 0.2470 - accuracy: 0.9043 - val_loss: 0.4084 - val_accuracy: 0.8444\n",
            "Epoch 24/40\n",
            "21/21 [==============================] - 0s 3ms/step - loss: 0.3062 - accuracy: 0.8852 - val_loss: 0.4085 - val_accuracy: 0.8444\n",
            "Epoch 25/40\n",
            "21/21 [==============================] - 0s 4ms/step - loss: 0.2857 - accuracy: 0.8756 - val_loss: 0.4078 - val_accuracy: 0.8556\n",
            "Epoch 26/40\n",
            "21/21 [==============================] - 0s 3ms/step - loss: 0.3031 - accuracy: 0.9091 - val_loss: 0.4069 - val_accuracy: 0.8444\n",
            "Epoch 27/40\n",
            "21/21 [==============================] - 0s 3ms/step - loss: 0.2829 - accuracy: 0.8852 - val_loss: 0.4031 - val_accuracy: 0.8444\n",
            "Epoch 28/40\n",
            "21/21 [==============================] - 0s 3ms/step - loss: 0.3364 - accuracy: 0.8947 - val_loss: 0.4019 - val_accuracy: 0.8556\n",
            "Epoch 29/40\n",
            "21/21 [==============================] - 0s 3ms/step - loss: 0.2749 - accuracy: 0.8947 - val_loss: 0.4000 - val_accuracy: 0.8556\n",
            "Epoch 30/40\n",
            "21/21 [==============================] - 0s 3ms/step - loss: 0.2673 - accuracy: 0.8995 - val_loss: 0.4034 - val_accuracy: 0.8556\n",
            "Epoch 31/40\n",
            "21/21 [==============================] - 0s 3ms/step - loss: 0.2633 - accuracy: 0.8900 - val_loss: 0.4069 - val_accuracy: 0.8667\n",
            "Epoch 32/40\n",
            "21/21 [==============================] - 0s 3ms/step - loss: 0.3231 - accuracy: 0.8900 - val_loss: 0.4058 - val_accuracy: 0.8556\n",
            "Epoch 33/40\n",
            "21/21 [==============================] - 0s 3ms/step - loss: 0.2703 - accuracy: 0.9139 - val_loss: 0.4045 - val_accuracy: 0.8556\n",
            "Epoch 34/40\n",
            "21/21 [==============================] - 0s 3ms/step - loss: 0.2454 - accuracy: 0.9187 - val_loss: 0.4076 - val_accuracy: 0.8667\n",
            "Epoch 35/40\n",
            "21/21 [==============================] - 0s 3ms/step - loss: 0.2870 - accuracy: 0.8947 - val_loss: 0.4045 - val_accuracy: 0.8667\n",
            "Epoch 36/40\n",
            "21/21 [==============================] - 0s 4ms/step - loss: 0.2642 - accuracy: 0.8900 - val_loss: 0.4080 - val_accuracy: 0.8667\n",
            "Epoch 37/40\n",
            "21/21 [==============================] - 0s 3ms/step - loss: 0.2389 - accuracy: 0.9234 - val_loss: 0.4108 - val_accuracy: 0.8667\n",
            "Epoch 38/40\n",
            "21/21 [==============================] - 0s 3ms/step - loss: 0.2826 - accuracy: 0.9139 - val_loss: 0.4089 - val_accuracy: 0.8667\n",
            "Epoch 39/40\n",
            "21/21 [==============================] - 0s 3ms/step - loss: 0.2702 - accuracy: 0.9091 - val_loss: 0.4034 - val_accuracy: 0.8667\n",
            "Epoch 40/40\n",
            "21/21 [==============================] - 0s 3ms/step - loss: 0.2843 - accuracy: 0.9139 - val_loss: 0.4023 - val_accuracy: 0.8667\n"
          ],
          "name": "stdout"
        }
      ]
    },
    {
      "cell_type": "code",
      "metadata": {
        "id": "ePes-ewcx-sg"
      },
      "source": [
        "predictions=neural_model.predict(X)\n",
        "final_binary_prediction=(predictions > 0.5).astype( np.int32 )"
      ],
      "execution_count": 29,
      "outputs": []
    },
    {
      "cell_type": "code",
      "metadata": {
        "colab": {
          "base_uri": "https://localhost:8080/",
          "height": 328
        },
        "id": "cpTYuMuPyzM6",
        "outputId": "80bcfd61-03c4-475f-c0cd-88da387cc835"
      },
      "source": [
        "cm = confusion_matrix(y_true=Y, y_pred=final_binary_prediction)\n",
        "plot_confusion_matrix(cm=cm,classes=ClassLabels,title='Confusion Matrix')"
      ],
      "execution_count": 30,
      "outputs": [
        {
          "output_type": "stream",
          "text": [
            "<built-in function compile>\n"
          ],
          "name": "stdout"
        },
        {
          "output_type": "display_data",
          "data": {
            "image/png": "[encoded data removed]",
            "text/plain": [
              "<Figure size 432x288 with 2 Axes>"
            ]
          },
          "metadata": {
            "tags": [],
            "needs_background": "light"
          }
        }
      ]
    },
    {
      "cell_type": "code",
      "metadata": {
        "id": "EeLdr5lPy2b5"
      },
      "source": [
        "from sklearn import model_selection\n",
        "X_train, X_test, Y_train, Y_test = model_selection.train_test_split(X, Y, random_state=42, test_size = 0.1)"
      ],
      "execution_count": 31,
      "outputs": []
    },
    {
      "cell_type": "code",
      "metadata": {
        "colab": {
          "base_uri": "https://localhost:8080/"
        },
        "id": "AAKATScDy3af",
        "outputId": "5c3dda5e-c8b8-4a90-b468-916677fcbcc5"
      },
      "source": [
        "modelfitting=neural_model.fit(X_train, Y_train, validation_data=(X_test, Y_test),epochs=40, batch_size=10)"
      ],
      "execution_count": 32,
      "outputs": [
        {
          "output_type": "stream",
          "text": [
            "Epoch 1/40\n",
            "27/27 [==============================] - 0s 4ms/step - loss: 0.3072 - accuracy: 0.8699 - val_loss: 0.4271 - val_accuracy: 0.8333\n",
            "Epoch 2/40\n",
            "27/27 [==============================] - 0s 2ms/step - loss: 0.3156 - accuracy: 0.8848 - val_loss: 0.4250 - val_accuracy: 0.8333\n",
            "Epoch 3/40\n",
            "27/27 [==============================] - 0s 2ms/step - loss: 0.3205 - accuracy: 0.8662 - val_loss: 0.4180 - val_accuracy: 0.8333\n",
            "Epoch 4/40\n",
            "27/27 [==============================] - 0s 2ms/step - loss: 0.2991 - accuracy: 0.8773 - val_loss: 0.4202 - val_accuracy: 0.8333\n",
            "Epoch 5/40\n",
            "27/27 [==============================] - 0s 2ms/step - loss: 0.3388 - accuracy: 0.8773 - val_loss: 0.4233 - val_accuracy: 0.8333\n",
            "Epoch 6/40\n",
            "27/27 [==============================] - 0s 3ms/step - loss: 0.3093 - accuracy: 0.8587 - val_loss: 0.4182 - val_accuracy: 0.8333\n",
            "Epoch 7/40\n",
            "27/27 [==============================] - 0s 2ms/step - loss: 0.2916 - accuracy: 0.8848 - val_loss: 0.4136 - val_accuracy: 0.8333\n",
            "Epoch 8/40\n",
            "27/27 [==============================] - 0s 3ms/step - loss: 0.3117 - accuracy: 0.8810 - val_loss: 0.4173 - val_accuracy: 0.8333\n",
            "Epoch 9/40\n",
            "27/27 [==============================] - 0s 2ms/step - loss: 0.2854 - accuracy: 0.8848 - val_loss: 0.4172 - val_accuracy: 0.8333\n",
            "Epoch 10/40\n",
            "27/27 [==============================] - 0s 3ms/step - loss: 0.3013 - accuracy: 0.8810 - val_loss: 0.4112 - val_accuracy: 0.8333\n",
            "Epoch 11/40\n",
            "27/27 [==============================] - 0s 2ms/step - loss: 0.3056 - accuracy: 0.8736 - val_loss: 0.4135 - val_accuracy: 0.8333\n",
            "Epoch 12/40\n",
            "27/27 [==============================] - 0s 2ms/step - loss: 0.2813 - accuracy: 0.8810 - val_loss: 0.4229 - val_accuracy: 0.8333\n",
            "Epoch 13/40\n",
            "27/27 [==============================] - 0s 2ms/step - loss: 0.3043 - accuracy: 0.8736 - val_loss: 0.4302 - val_accuracy: 0.8333\n",
            "Epoch 14/40\n",
            "27/27 [==============================] - 0s 2ms/step - loss: 0.2801 - accuracy: 0.8848 - val_loss: 0.4222 - val_accuracy: 0.8333\n",
            "Epoch 15/40\n",
            "27/27 [==============================] - 0s 2ms/step - loss: 0.3093 - accuracy: 0.8773 - val_loss: 0.4241 - val_accuracy: 0.8333\n",
            "Epoch 16/40\n",
            "27/27 [==============================] - 0s 2ms/step - loss: 0.3290 - accuracy: 0.8810 - val_loss: 0.4238 - val_accuracy: 0.8333\n",
            "Epoch 17/40\n",
            "27/27 [==============================] - 0s 3ms/step - loss: 0.3027 - accuracy: 0.8773 - val_loss: 0.4284 - val_accuracy: 0.8333\n",
            "Epoch 18/40\n",
            "27/27 [==============================] - 0s 3ms/step - loss: 0.2668 - accuracy: 0.9033 - val_loss: 0.4427 - val_accuracy: 0.8333\n",
            "Epoch 19/40\n",
            "27/27 [==============================] - 0s 2ms/step - loss: 0.2914 - accuracy: 0.8922 - val_loss: 0.4403 - val_accuracy: 0.8333\n",
            "Epoch 20/40\n",
            "27/27 [==============================] - 0s 2ms/step - loss: 0.2718 - accuracy: 0.8959 - val_loss: 0.4339 - val_accuracy: 0.8333\n",
            "Epoch 21/40\n",
            "27/27 [==============================] - 0s 2ms/step - loss: 0.3245 - accuracy: 0.8439 - val_loss: 0.4373 - val_accuracy: 0.8333\n",
            "Epoch 22/40\n",
            "27/27 [==============================] - 0s 2ms/step - loss: 0.2955 - accuracy: 0.8885 - val_loss: 0.4429 - val_accuracy: 0.8333\n",
            "Epoch 23/40\n",
            "27/27 [==============================] - 0s 2ms/step - loss: 0.2732 - accuracy: 0.8922 - val_loss: 0.4476 - val_accuracy: 0.8333\n",
            "Epoch 24/40\n",
            "27/27 [==============================] - 0s 3ms/step - loss: 0.2770 - accuracy: 0.8996 - val_loss: 0.4497 - val_accuracy: 0.8333\n",
            "Epoch 25/40\n",
            "27/27 [==============================] - 0s 3ms/step - loss: 0.2772 - accuracy: 0.9033 - val_loss: 0.4512 - val_accuracy: 0.8333\n",
            "Epoch 26/40\n",
            "27/27 [==============================] - 0s 2ms/step - loss: 0.2647 - accuracy: 0.9033 - val_loss: 0.4532 - val_accuracy: 0.8333\n",
            "Epoch 27/40\n",
            "27/27 [==============================] - 0s 3ms/step - loss: 0.2972 - accuracy: 0.8736 - val_loss: 0.4498 - val_accuracy: 0.8333\n",
            "Epoch 28/40\n",
            "27/27 [==============================] - 0s 2ms/step - loss: 0.2734 - accuracy: 0.8922 - val_loss: 0.4513 - val_accuracy: 0.8333\n",
            "Epoch 29/40\n",
            "27/27 [==============================] - 0s 2ms/step - loss: 0.2818 - accuracy: 0.8885 - val_loss: 0.4552 - val_accuracy: 0.8333\n",
            "Epoch 30/40\n",
            "27/27 [==============================] - 0s 2ms/step - loss: 0.2946 - accuracy: 0.8848 - val_loss: 0.4589 - val_accuracy: 0.8333\n",
            "Epoch 31/40\n",
            "27/27 [==============================] - 0s 2ms/step - loss: 0.2854 - accuracy: 0.8810 - val_loss: 0.4624 - val_accuracy: 0.8333\n",
            "Epoch 32/40\n",
            "27/27 [==============================] - 0s 2ms/step - loss: 0.2719 - accuracy: 0.8922 - val_loss: 0.4579 - val_accuracy: 0.8333\n",
            "Epoch 33/40\n",
            "27/27 [==============================] - 0s 2ms/step - loss: 0.3008 - accuracy: 0.8773 - val_loss: 0.4393 - val_accuracy: 0.8667\n",
            "Epoch 34/40\n",
            "27/27 [==============================] - 0s 2ms/step - loss: 0.2647 - accuracy: 0.8848 - val_loss: 0.4392 - val_accuracy: 0.8667\n",
            "Epoch 35/40\n",
            "27/27 [==============================] - 0s 3ms/step - loss: 0.2886 - accuracy: 0.8885 - val_loss: 0.4370 - val_accuracy: 0.8667\n",
            "Epoch 36/40\n",
            "27/27 [==============================] - 0s 3ms/step - loss: 0.2953 - accuracy: 0.8773 - val_loss: 0.4419 - val_accuracy: 0.8667\n",
            "Epoch 37/40\n",
            "27/27 [==============================] - 0s 2ms/step - loss: 0.2497 - accuracy: 0.9071 - val_loss: 0.4459 - val_accuracy: 0.8667\n",
            "Epoch 38/40\n",
            "27/27 [==============================] - 0s 2ms/step - loss: 0.2619 - accuracy: 0.8848 - val_loss: 0.4400 - val_accuracy: 0.8667\n",
            "Epoch 39/40\n",
            "27/27 [==============================] - 0s 3ms/step - loss: 0.2633 - accuracy: 0.8959 - val_loss: 0.4445 - val_accuracy: 0.8667\n",
            "Epoch 40/40\n",
            "27/27 [==============================] - 0s 2ms/step - loss: 0.2805 - accuracy: 0.8885 - val_loss: 0.4436 - val_accuracy: 0.8667\n"
          ],
          "name": "stdout"
        }
      ]
    },
    {
      "cell_type": "code",
      "metadata": {
        "id": "eALtUWUcy4gx"
      },
      "source": [
        "predictions=neural_model.predict(X)\n",
        "final_binary_prediction=(predictions > 0.5).astype( np.int32 )"
      ],
      "execution_count": 33,
      "outputs": []
    },
    {
      "cell_type": "code",
      "metadata": {
        "colab": {
          "base_uri": "https://localhost:8080/",
          "height": 328
        },
        "id": "aFkszPdSy5ka",
        "outputId": "7922b771-3dec-4ba3-8652-9675d46d451b"
      },
      "source": [
        "cm = confusion_matrix(y_true=Y, y_pred=final_binary_prediction)\n",
        "plot_confusion_matrix(cm=cm,classes=ClassLabels,title='Confusion Matrix')"
      ],
      "execution_count": 34,
      "outputs": [
        {
          "output_type": "stream",
          "text": [
            "<built-in function compile>\n"
          ],
          "name": "stdout"
        },
        {
          "output_type": "display_data",
          "data": {
            "image/png": "[encoded data removed]",
            "text/plain": [
              "<Figure size 432x288 with 2 Axes>"
            ]
          },
          "metadata": {
            "tags": [],
            "needs_background": "light"
          }
        }
      ]
    }
  ]
}